{
 "cells": [
  {
   "cell_type": "code",
   "execution_count": 1,
   "id": "arbitrary-angle",
   "metadata": {},
   "outputs": [],
   "source": [
    "import os\n",
    "import sys\n",
    "\n",
    "from pathlib import Path\n",
    "\n",
    "import matplotlib.pyplot as plt\n",
    "import networkx as nx\n",
    "\n",
    "sys.path.append(str(Path(os.getcwd()).parent))\n",
    "\n",
    "from nxempowerment.empowerment import graph_node_empowerment\n",
    "from nxempowerment.visualize import plot_graph_with_measure\n",
    "\n"
   ]
  },
  {
   "cell_type": "markdown",
   "id": "sharp-adoption",
   "metadata": {},
   "source": [
    "# Network X graphs"
   ]
  },
  {
   "cell_type": "markdown",
   "id": "tracked-tuning",
   "metadata": {},
   "source": [
    "There are a number of ways of creating a NetworkX Directed Graph\n",
    "See [this tutorial](https://networkx.org/documentation/stable/tutorial.html) for more info.\n",
    "\n",
    "Nodes can be identified by any object. In this first example we use strings as node identifiers.\n",
    "\n",
    "So that NetworkX can plot the graph nicely we supply a (x,y) position for each node as an attribute named 'pos'.\n"
   ]
  },
  {
   "cell_type": "code",
   "execution_count": 2,
   "id": "smart-tackle",
   "metadata": {},
   "outputs": [
    {
     "data": {
      "image/png": "[encoded data removed]",
      "text/plain": [
       "<Figure size 360x72 with 1 Axes>"
      ]
     },
     "metadata": {},
     "output_type": "display_data"
    }
   ],
   "source": [
    "# nodes supplied as a list of tuples of (str, dict) where dict is the attributes for that node\n",
    "nodes = [('a', {'pos': (0, 0)}), ('b', {'pos': (1, 0)}), ('c', {'pos': (2, 0)})]\n",
    "# edges are defined as a list of tuples (n1, n2) where (n1, n2) means an edge between node n1 and node n2\n",
    "edges = [('a', 'b'), ('b', 'c')]\n",
    "graph = nx.DiGraph()\n",
    "graph.add_nodes_from(nodes)\n",
    "graph.add_edges_from(edges)\n",
    "node_empowerment = graph_node_empowerment(graph, 2)\n",
    "nx.set_node_attributes(graph, node_empowerment, 'empowerment_2_steps')\n",
    "# set the figsize on the graph attributes dict\n",
    "graph.graph['figsize'] = (5,1)\n",
    "plot_graph_with_measure(graph, 'empowerment_2_steps', arrows=True)"
   ]
  },
  {
   "cell_type": "markdown",
   "id": "harmful-secretariat",
   "metadata": {},
   "source": [
    "Note that because this is a directed graph, from node a in 2 steps the agent can reach node b or node c so empowerement at node a is log_2(2) = 1. From node b the agent can only reach node c so empowerment is log_2(1) = 0. From node c the agent cannot move at all so empowerment is also 0.\n"
   ]
  },
  {
   "cell_type": "code",
   "execution_count": 3,
   "id": "forbidden-painting",
   "metadata": {},
   "outputs": [
    {
     "data": {
      "image/png": "[encoded data removed]",
      "text/plain": [
       "<Figure size 360x72 with 1 Axes>"
      ]
     },
     "metadata": {},
     "output_type": "display_data"
    }
   ],
   "source": [
    "# Alternatively we can use the (x,y) pos also to be the node id, which is how the GridWorld class works.\n",
    "\n",
    "# NetworkX also allows us to define nodes and edges in one step by passing an Iterable of edges into the constructor.\n",
    "graph = nx.DiGraph([((0,0), (1,0)), ((1,0), (2,0))])\n",
    "\n",
    "# Now we must add the 'pos' attributes\n",
    "nx.set_node_attributes(graph, {n: n for n in graph.nodes}, 'pos')\n",
    "node_empowerment = graph_node_empowerment(graph, 2)\n",
    "nx.set_node_attributes(graph, node_empowerment, 'empowerment_2_steps')\n",
    "# set the figsize on the graph attributes dict\n",
    "graph.graph['figsize'] = (5,1)\n",
    "plot_graph_with_measure(graph, 'empowerment_2_steps', arrows=True)"
   ]
  },
  {
   "cell_type": "markdown",
   "id": "dying-million",
   "metadata": {},
   "source": [
    "If we connect edges in both directions between each node then the agent can reach 2 other nodes in 2 steps from each node"
   ]
  },
  {
   "cell_type": "code",
   "execution_count": 4,
   "id": "mysterious-reason",
   "metadata": {},
   "outputs": [
    {
     "data": {
      "image/png": "[encoded data removed]",
      "text/plain": [
       "<Figure size 360x72 with 1 Axes>"
      ]
     },
     "metadata": {},
     "output_type": "display_data"
    }
   ],
   "source": [
    "graph = nx.DiGraph([((0,0), (1,0)), ((1,0), (0,0)), ((1,0), (2,0)), ((2,0), (1,0))])\n",
    "\n",
    "# Now we must add the 'pos' attributes\n",
    "nx.set_node_attributes(graph, {n: n for n in graph.nodes}, 'pos')\n",
    "node_empowerment = graph_node_empowerment(graph, 2)\n",
    "nx.set_node_attributes(graph, node_empowerment, 'empowerment_2_steps')\n",
    "# set the figsize on the graph attributes dict\n",
    "graph.graph['figsize'] = (5,1)\n",
    "plot_graph_with_measure(graph, 'empowerment_2_steps', arrows=True)"
   ]
  },
  {
   "cell_type": "code",
   "execution_count": null,
   "id": "israeli-village",
   "metadata": {},
   "outputs": [],
   "source": []
  },
  {
   "cell_type": "code",
   "execution_count": null,
   "id": "major-terminal",
   "metadata": {},
   "outputs": [],
   "source": []
  }
 ],
 "metadata": {
  "kernelspec": {
   "display_name": "Python 3",
   "language": "python",
   "name": "python3"
  },
  "language_info": {
   "codemirror_mode": {
    "name": "ipython",
    "version": 3
   },
   "file_extension": ".py",
   "mimetype": "text/x-python",
   "name": "python",
   "nbconvert_exporter": "python",
   "pygments_lexer": "ipython3",
   "version": "3.8.8"
  }
 },
 "nbformat": 4,
 "nbformat_minor": 5
}
